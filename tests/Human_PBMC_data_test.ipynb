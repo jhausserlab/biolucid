{
 "cells": [
  {
   "cell_type": "markdown",
   "metadata": {},
   "source": [
    "# This notebook is used to perform bioLUCID on human PBMC data"
   ]
  },
  {
   "cell_type": "code",
   "execution_count": 1,
   "metadata": {},
   "outputs": [
    {
     "name": "stderr",
     "output_type": "stream",
     "text": [
      "/scratch/silas.sun/anaconda3/envs/py_scrna_seq/lib/python3.10/site-packages/anndata/utils.py:434: FutureWarning: Importing read_csv from `anndata` is deprecated. Import anndata.io.read_csv instead.\n",
      "  warnings.warn(msg, FutureWarning)\n",
      "/scratch/silas.sun/anaconda3/envs/py_scrna_seq/lib/python3.10/site-packages/anndata/utils.py:434: FutureWarning: Importing read_excel from `anndata` is deprecated. Import anndata.io.read_excel instead.\n",
      "  warnings.warn(msg, FutureWarning)\n",
      "/scratch/silas.sun/anaconda3/envs/py_scrna_seq/lib/python3.10/site-packages/anndata/utils.py:434: FutureWarning: Importing read_hdf from `anndata` is deprecated. Import anndata.io.read_hdf instead.\n",
      "  warnings.warn(msg, FutureWarning)\n",
      "/scratch/silas.sun/anaconda3/envs/py_scrna_seq/lib/python3.10/site-packages/anndata/utils.py:434: FutureWarning: Importing read_loom from `anndata` is deprecated. Import anndata.io.read_loom instead.\n",
      "  warnings.warn(msg, FutureWarning)\n",
      "/scratch/silas.sun/anaconda3/envs/py_scrna_seq/lib/python3.10/site-packages/anndata/utils.py:434: FutureWarning: Importing read_mtx from `anndata` is deprecated. Import anndata.io.read_mtx instead.\n",
      "  warnings.warn(msg, FutureWarning)\n",
      "/scratch/silas.sun/anaconda3/envs/py_scrna_seq/lib/python3.10/site-packages/anndata/utils.py:434: FutureWarning: Importing read_text from `anndata` is deprecated. Import anndata.io.read_text instead.\n",
      "  warnings.warn(msg, FutureWarning)\n",
      "/scratch/silas.sun/anaconda3/envs/py_scrna_seq/lib/python3.10/site-packages/anndata/utils.py:434: FutureWarning: Importing read_umi_tools from `anndata` is deprecated. Import anndata.io.read_umi_tools instead.\n",
      "  warnings.warn(msg, FutureWarning)\n"
     ]
    }
   ],
   "source": [
    "import scanpy as sc\n",
    "import pandas as pd\n",
    "import numpy as np\n",
    "import pickle\n",
    "import matplotlib.pyplot as plt\n",
    "import seaborn as sns\n",
    "import sys\n",
    "import biolucid"
   ]
  },
  {
   "cell_type": "markdown",
   "metadata": {},
   "source": [
    "# Load data"
   ]
  },
  {
   "cell_type": "code",
   "execution_count": 2,
   "metadata": {},
   "outputs": [],
   "source": [
    "adata = sc.read_h5ad('/scratch/silas.sun/Project/Batch_effect_benchmarking/batch_effect_QC/S05_bioLUCID_repo_preparation/tests/data/human_PBMC_data.h5ad')"
   ]
  },
  {
   "cell_type": "code",
   "execution_count": 3,
   "metadata": {},
   "outputs": [
    {
     "name": "stdout",
     "output_type": "stream",
     "text": [
      "Number of cells: 9089\n",
      "Number of genes: 22036\n",
      "Unique batches:\n",
      "['10x-Chromium-v2-A', '10x-Chromium-v2-B', '10x-Chromium-v3']\n",
      "Categories (3, object): ['10x-Chromium-v2-A', '10x-Chromium-v2-B', '10x-Chromium-v3']\n",
      "\n",
      "Unique cell types:\n",
      "['Mono', 'pDCs', 'B Cell', 'T Cell', 'DC Cell', 'MGK']\n",
      "Categories (6, object): ['B Cell', 'DC Cell', 'MGK', 'Mono', 'T Cell', 'pDCs']\n"
     ]
    }
   ],
   "source": [
    "print(f\"Number of cells: {adata.n_obs}\")\n",
    "print(f\"Number of genes: {adata.n_vars}\")\n",
    "print(\"Unique batches:\")\n",
    "print(adata.obs['seq'].unique())\n",
    "print(\"\\nUnique cell types:\")\n",
    "print(adata.obs['celltype'].unique())"
   ]
  },
  {
   "cell_type": "code",
   "execution_count": 4,
   "metadata": {},
   "outputs": [
    {
     "name": "stdout",
     "output_type": "stream",
     "text": [
      "Batch-celltype distribution:\n",
      "celltype           B Cell  DC Cell  MGK  Mono  T Cell  pDCs\n",
      "seq                                                        \n",
      "10x-Chromium-v2-A     438      166   41   986    3104    33\n",
      "10x-Chromium-v2-B     371       34   43   393    2152     0\n",
      "10x-Chromium-v3       101       29   23   161    1014     0\n"
     ]
    }
   ],
   "source": [
    "print(\"Batch-celltype distribution:\")\n",
    "print(pd.crosstab(adata.obs['seq'], adata.obs['celltype']))"
   ]
  },
  {
   "cell_type": "markdown",
   "metadata": {},
   "source": [
    "# Run bioLUCID"
   ]
  },
  {
   "cell_type": "code",
   "execution_count": 6,
   "metadata": {},
   "outputs": [
    {
     "name": "stderr",
     "output_type": "stream",
     "text": [
      "2025-07-14 15:57:46,051 - INFO - Initialized analyzer with valid parameters\n",
      "2025-07-14 15:57:46,053 - INFO - === Analysis Parameters ===\n",
      "2025-07-14 15:57:46,053 - INFO - batch_key: seq\n",
      "2025-07-14 15:57:46,055 - INFO - celltype_key: celltype\n",
      "2025-07-14 15:57:46,055 - INFO - min_cells: 100\n",
      "2025-07-14 15:57:46,056 - INFO - abundant_gene_threshold: 1\n",
      "2025-07-14 15:57:46,057 - INFO - min_abundant_genes: 100\n"
     ]
    }
   ],
   "source": [
    "analyzer = biolucid.core.BatchEffectAnalyzer(\n",
    "    adata,\n",
    "    params={\n",
    "        'batch_key': 'seq',         \n",
    "        'celltype_key': 'celltype',\n",
    "        'min_cells': 100\n",
    "    }\n",
    ")"
   ]
  },
  {
   "cell_type": "code",
   "execution_count": 7,
   "metadata": {},
   "outputs": [
    {
     "name": "stderr",
     "output_type": "stream",
     "text": [
      "2025-07-14 15:57:51,189 - INFO - Starting analysis pipeline\n",
      "2025-07-14 15:57:51,190 - INFO - Preprocessing data\n",
      "2025-07-14 15:57:51,190 - INFO - Starting data preprocessing\n",
      "2025-07-14 15:57:51,411 - INFO - Retained 8720 / 9089 cells after cell type filtering\n",
      "2025-07-14 15:57:51,412 - INFO - Retained cell types: ['B Cell', 'Mono', 'T Cell']\n",
      "2025-07-14 15:57:51,413 - INFO - Cell counts per batch for retained cell types:\n",
      "2025-07-14 15:57:51,414 - INFO - Batch 10x-Chromium-v2-A:\n",
      "2025-07-14 15:57:51,415 - INFO -   B Cell: 438 cells\n",
      "2025-07-14 15:57:51,416 - INFO -   Mono: 986 cells\n",
      "2025-07-14 15:57:51,416 - INFO -   T Cell: 3104 cells\n",
      "2025-07-14 15:57:51,417 - INFO - Batch 10x-Chromium-v2-B:\n",
      "2025-07-14 15:57:51,417 - INFO -   B Cell: 371 cells\n",
      "2025-07-14 15:57:51,418 - INFO -   Mono: 393 cells\n",
      "2025-07-14 15:57:51,418 - INFO -   T Cell: 2152 cells\n",
      "2025-07-14 15:57:51,419 - INFO - Batch 10x-Chromium-v3:\n",
      "2025-07-14 15:57:51,419 - INFO -   B Cell: 101 cells\n",
      "2025-07-14 15:57:51,420 - INFO -   Mono: 161 cells\n",
      "2025-07-14 15:57:51,420 - INFO -   T Cell: 1014 cells\n",
      "2025-07-14 15:57:51,642 - INFO - Found counts in layers[\"counts\"]\n",
      "2025-07-14 15:57:52,277 - INFO - Selected 303 abundant genes\n",
      "2025-07-14 15:57:52,449 - INFO - Found counts in layers[\"counts\"]\n",
      "2025-07-14 15:57:52,480 - INFO - Storing raw counts in 'layers[\"counts\"]'\n",
      "2025-07-14 15:57:52,536 - INFO - Data preprocessing completed\n",
      "2025-07-14 15:57:52,537 - INFO - === Batch Effect Analysis Data ===\n",
      "2025-07-14 15:57:52,538 - INFO - Raw data: AnnData object with n_obs × n_vars = 9089 × 22036\n",
      "    obs: 'sample_name', 'group', 'seq', 'cell_name', 'n_genes', 'n_genes_by_counts', 'total_counts', 'total_counts_mt', 'pct_counts_mt', 'celltype'\n",
      "    var: 'ensembl_id', 'n_cells', 'mt', 'n_cells_by_counts', 'mean_counts', 'pct_dropout_by_counts', 'total_counts'\n",
      "    uns: 'celltype_colors', 'log1p', 'neighbors', 'pca', 'seq_colors', 'umap'\n",
      "    obsm: 'X_pca', 'X_umap'\n",
      "    varm: 'PCs'\n",
      "    layers: 'counts'\n",
      "    obsp: 'connectivities', 'distances'\n",
      "2025-07-14 15:57:52,538 - INFO - Processed data: AnnData object with n_obs × n_vars = 8720 × 303\n",
      "    obs: 'sample_name', 'group', 'seq', 'cell_name', 'n_genes', 'n_genes_by_counts', 'total_counts', 'total_counts_mt', 'pct_counts_mt', 'celltype'\n",
      "    var: 'ensembl_id', 'n_cells', 'mt', 'n_cells_by_counts', 'mean_counts', 'pct_dropout_by_counts', 'total_counts'\n",
      "    uns: 'celltype_colors', 'log1p', 'neighbors', 'pca', 'seq_colors', 'umap'\n",
      "    obsm: 'X_pca', 'X_umap'\n",
      "    varm: 'PCs'\n",
      "    layers: 'counts', 'logTPM'\n",
      "    obsp: 'connectivities', 'distances'\n",
      "/scratch/silas.sun/anaconda3/envs/py_scrna_seq/lib/python3.10/site-packages/biolucid/core/calculator.py:29: FutureWarning: The default of observed=False is deprecated and will be changed to True in a future version of pandas. Pass observed=False to retain current behavior or observed=True to adopt the future default and silence this warning.\n",
      "  X_st = data.groupby(['sample_id', 'cluster_id', 'gene_id'])['expression_value'].mean()\n",
      "/scratch/silas.sun/anaconda3/envs/py_scrna_seq/lib/python3.10/site-packages/biolucid/core/calculator.py:76: FutureWarning: The default of observed=False is deprecated and will be changed to True in a future version of pandas. Pass observed=False to retain current behavior or observed=True to adopt the future default and silence this warning.\n",
      "  .groupby(['cluster_id', 'gene_id'])\n",
      "/scratch/silas.sun/anaconda3/envs/py_scrna_seq/lib/python3.10/site-packages/biolucid/core/calculator.py:106: FutureWarning: The default of observed=False is deprecated and will be changed to True in a future version of pandas. Pass observed=False to retain current behavior or observed=True to adopt the future default and silence this warning.\n",
      "  .groupby(['sample_id', 'gene_id'])\n",
      "/scratch/silas.sun/anaconda3/envs/py_scrna_seq/lib/python3.10/site-packages/biolucid/core/calculator.py:174: FutureWarning: The default of observed=False is deprecated and will be changed to True in a future version of pandas. Pass observed=False to retain current behavior or observed=True to adopt the future default and silence this warning.\n",
      "  for sample, group in sigma_s_df.groupby('sample_id')\n",
      "/scratch/silas.sun/anaconda3/envs/py_scrna_seq/lib/python3.10/site-packages/biolucid/core/calculator.py:193: FutureWarning: The default of observed=False is deprecated and will be changed to True in a future version of pandas. Pass observed=False to retain current behavior or observed=True to adopt the future default and silence this warning.\n",
      "  for sample, group in residuals_df.groupby('sample_id')\n",
      "2025-07-14 15:57:53,389 - INFO - Analysis pipeline completed\n"
     ]
    },
    {
     "data": {
      "text/plain": [
       "bioLUCIDResult(Global_b_score=np.float32(0.8596032), Global_q_sh_score=np.float32(0.19174828), Global_q_sp_score=np.float32(0.077152155), b_score_per_batch={'10x-Chromium-v2-A': np.float32(0.81892), '10x-Chromium-v2-B': np.float32(0.9110362), '10x-Chromium-v3': np.float32(0.8488535)}, q_sh_score_per_batch={'10x-Chromium-v2-A': np.float32(0.16076656), '10x-Chromium-v2-B': np.float32(0.17390858), '10x-Chromium-v3': np.float32(0.24056973)}, q_sp_score_per_batch={'10x-Chromium-v2-A': np.float32(0.07559798), '10x-Chromium-v2-B': np.float32(0.054345023), '10x-Chromium-v3': np.float32(0.10151347)}, components={'μ': gene_id\n",
       "AC009501.4    0.953384\n",
       "AC090498.1    0.762316\n",
       "ACTB          2.472333\n",
       "ACTG1         0.942840\n",
       "AES           0.563574\n",
       "                ...   \n",
       "ZFAS1         0.755262\n",
       "ZFP36         0.633246\n",
       "ZFP36L2       0.754915\n",
       "ZNF302        1.291997\n",
       "ZNF90         0.494598\n",
       "Name: expression_value, Length: 303, dtype: float32, 'X_st': sample_id          cluster_id  gene_id   \n",
       "10x-Chromium-v2-A  B Cell      AC009501.4    0.337927\n",
       "                               AC090498.1    0.448774\n",
       "                               ACTB          1.481859\n",
       "                               ACTG1         0.361759\n",
       "                               AES           0.356814\n",
       "                                               ...   \n",
       "10x-Chromium-v3    T Cell      ZFAS1         0.670376\n",
       "                               ZFP36         0.649034\n",
       "                               ZFP36L2       1.384102\n",
       "                               ZNF302        1.437101\n",
       "                               ZNF90         0.412377\n",
       "Name: expression_value, Length: 2727, dtype: float32, 'tau_t': cluster_id  gene_id   \n",
       "B Cell      AC009501.4   -0.129125\n",
       "            AC090498.1    0.135775\n",
       "            ACTB         -0.888228\n",
       "            ACTG1        -0.484775\n",
       "            AES          -0.045296\n",
       "                            ...   \n",
       "T Cell      ZFAS1        -0.173865\n",
       "            ZFP36        -0.146767\n",
       "            ZFP36L2       0.442003\n",
       "            ZNF302       -0.031313\n",
       "            ZNF90         0.040485\n",
       "Length: 909, dtype: float32, 'sigma_s': sample_id          gene_id   \n",
       "10x-Chromium-v2-A  AC009501.4   -0.569121\n",
       "                   AC090498.1   -0.397661\n",
       "                   ACTB         -0.106924\n",
       "                   ACTG1        -0.239465\n",
       "                   AES          -0.147047\n",
       "                                   ...   \n",
       "10x-Chromium-v3    ZFAS1         0.090774\n",
       "                   ZFP36         0.252212\n",
       "                   ZFP36L2       0.117302\n",
       "                   ZNF302        0.191824\n",
       "                   ZNF90        -0.136263\n",
       "Length: 909, dtype: float32, 'residuals':               sample_id cluster_id     gene_id  residuals\n",
       "0     10x-Chromium-v2-A     B Cell  AC009501.4   0.082789\n",
       "1     10x-Chromium-v2-A     B Cell  AC090498.1  -0.051656\n",
       "2     10x-Chromium-v2-A     B Cell        ACTB   0.004678\n",
       "3     10x-Chromium-v2-A     B Cell       ACTG1   0.143158\n",
       "4     10x-Chromium-v2-A     B Cell         AES  -0.014417\n",
       "...                 ...        ...         ...        ...\n",
       "2722    10x-Chromium-v3     T Cell       ZFAS1  -0.001796\n",
       "2723    10x-Chromium-v3     T Cell       ZFP36  -0.089657\n",
       "2724    10x-Chromium-v3     T Cell     ZFP36L2   0.069883\n",
       "2725    10x-Chromium-v3     T Cell      ZNF302  -0.015408\n",
       "2726    10x-Chromium-v3     T Cell       ZNF90   0.013556\n",
       "\n",
       "[2727 rows x 4 columns]})"
      ]
     },
     "execution_count": 7,
     "metadata": {},
     "output_type": "execute_result"
    }
   ],
   "source": [
    "# it costs 3 minutes to run the analysis\n",
    "analyzer.run_analysis()"
   ]
  },
  {
   "cell_type": "markdown",
   "metadata": {},
   "source": [
    "# Get results"
   ]
  },
  {
   "cell_type": "code",
   "execution_count": 8,
   "metadata": {},
   "outputs": [],
   "source": [
    "results = analyzer.results"
   ]
  },
  {
   "cell_type": "code",
   "execution_count": 13,
   "metadata": {},
   "outputs": [],
   "source": [
    "# import pickle\n",
    "# with open('output_file.pkl','wb') as f:\n",
    "#     pickle.dump(results, f)"
   ]
  },
  {
   "cell_type": "markdown",
   "metadata": {},
   "source": [
    "# Vis"
   ]
  },
  {
   "cell_type": "code",
   "execution_count": 9,
   "metadata": {},
   "outputs": [],
   "source": [
    "global_results_df,per_sample_results_df = biolucid.visualization.results_to_df(results)"
   ]
  },
  {
   "cell_type": "code",
   "execution_count": 10,
   "metadata": {},
   "outputs": [
    {
     "data": {
      "text/html": [
       "<div>\n",
       "<style scoped>\n",
       "    .dataframe tbody tr th:only-of-type {\n",
       "        vertical-align: middle;\n",
       "    }\n",
       "\n",
       "    .dataframe tbody tr th {\n",
       "        vertical-align: top;\n",
       "    }\n",
       "\n",
       "    .dataframe thead th {\n",
       "        text-align: right;\n",
       "    }\n",
       "</style>\n",
       "<table border=\"1\" class=\"dataframe\">\n",
       "  <thead>\n",
       "    <tr style=\"text-align: right;\">\n",
       "      <th></th>\n",
       "      <th>Global_b_score</th>\n",
       "      <th>Global_q_sp_score</th>\n",
       "      <th>Global_q_sh_score</th>\n",
       "    </tr>\n",
       "  </thead>\n",
       "  <tbody>\n",
       "    <tr>\n",
       "      <th>0</th>\n",
       "      <td>0.859603</td>\n",
       "      <td>0.077152</td>\n",
       "      <td>0.191748</td>\n",
       "    </tr>\n",
       "  </tbody>\n",
       "</table>\n",
       "</div>"
      ],
      "text/plain": [
       "   Global_b_score  Global_q_sp_score  Global_q_sh_score\n",
       "0        0.859603           0.077152           0.191748"
      ]
     },
     "execution_count": 10,
     "metadata": {},
     "output_type": "execute_result"
    }
   ],
   "source": [
    "global_results_df"
   ]
  },
  {
   "cell_type": "code",
   "execution_count": 11,
   "metadata": {},
   "outputs": [
    {
     "data": {
      "text/html": [
       "<div>\n",
       "<style scoped>\n",
       "    .dataframe tbody tr th:only-of-type {\n",
       "        vertical-align: middle;\n",
       "    }\n",
       "\n",
       "    .dataframe tbody tr th {\n",
       "        vertical-align: top;\n",
       "    }\n",
       "\n",
       "    .dataframe thead th {\n",
       "        text-align: right;\n",
       "    }\n",
       "</style>\n",
       "<table border=\"1\" class=\"dataframe\">\n",
       "  <thead>\n",
       "    <tr style=\"text-align: right;\">\n",
       "      <th></th>\n",
       "      <th>q_sh_score_per_batch</th>\n",
       "      <th>q_sp_score_per_batch</th>\n",
       "      <th>b_score_per_batch</th>\n",
       "      <th>recommendation</th>\n",
       "    </tr>\n",
       "  </thead>\n",
       "  <tbody>\n",
       "    <tr>\n",
       "      <th>10x-Chromium-v2-A</th>\n",
       "      <td>0.160767</td>\n",
       "      <td>0.075598</td>\n",
       "      <td>0.818920</td>\n",
       "      <td>Drop</td>\n",
       "    </tr>\n",
       "    <tr>\n",
       "      <th>10x-Chromium-v2-B</th>\n",
       "      <td>0.173909</td>\n",
       "      <td>0.054345</td>\n",
       "      <td>0.911036</td>\n",
       "      <td>Drop</td>\n",
       "    </tr>\n",
       "    <tr>\n",
       "      <th>10x-Chromium-v3</th>\n",
       "      <td>0.240570</td>\n",
       "      <td>0.101513</td>\n",
       "      <td>0.848854</td>\n",
       "      <td>Drop</td>\n",
       "    </tr>\n",
       "  </tbody>\n",
       "</table>\n",
       "</div>"
      ],
      "text/plain": [
       "                   q_sh_score_per_batch  q_sp_score_per_batch  \\\n",
       "10x-Chromium-v2-A              0.160767              0.075598   \n",
       "10x-Chromium-v2-B              0.173909              0.054345   \n",
       "10x-Chromium-v3                0.240570              0.101513   \n",
       "\n",
       "                   b_score_per_batch recommendation  \n",
       "10x-Chromium-v2-A           0.818920           Drop  \n",
       "10x-Chromium-v2-B           0.911036           Drop  \n",
       "10x-Chromium-v3             0.848854           Drop  "
      ]
     },
     "execution_count": 11,
     "metadata": {},
     "output_type": "execute_result"
    }
   ],
   "source": [
    "per_sample_results_df"
   ]
  },
  {
   "cell_type": "markdown",
   "metadata": {},
   "source": [
    "## Barplot"
   ]
  },
  {
   "cell_type": "code",
   "execution_count": 12,
   "metadata": {},
   "outputs": [
    {
     "data": {
      "image/png": "[encoded data removed]",
      "text/plain": [
       "<Figure size 500x500 with 1 Axes>"
      ]
     },
     "metadata": {},
     "output_type": "display_data"
    }
   ],
   "source": [
    "biolucid.visualization.plot_scatter_analysis(per_sample_results_df)"
   ]
  }
 ],
 "metadata": {
  "kernelspec": {
   "display_name": "py_scrna_seq",
   "language": "python",
   "name": "python3"
  },
  "language_info": {
   "codemirror_mode": {
    "name": "ipython",
    "version": 3
   },
   "file_extension": ".py",
   "mimetype": "text/x-python",
   "name": "python",
   "nbconvert_exporter": "python",
   "pygments_lexer": "ipython3",
   "version": "3.10.13"
  }
 },
 "nbformat": 4,
 "nbformat_minor": 2
}
